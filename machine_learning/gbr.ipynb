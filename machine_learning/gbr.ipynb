{
 "cells": [
  {
   "cell_type": "markdown",
   "metadata": {},
   "source": [
    "## Feature engineering"
   ]
  },
  {
   "cell_type": "code",
   "execution_count": 2,
   "metadata": {},
   "outputs": [],
   "source": [
    "import pandas as pd\n",
    "from sklearn.model_selection import train_test_split, GridSearchCV\n",
    "from sklearn.ensemble import GradientBoostingRegressor\n",
    "from sklearn.metrics import mean_squared_error, r2_score"
   ]
  },
  {
   "cell_type": "code",
   "execution_count": 3,
   "metadata": {},
   "outputs": [],
   "source": [
    "import sys\n",
    "import os\n",
    "\n",
    "sys.path.append(os.path.abspath(os.path.join('..')))\n",
    "\n",
    "from feature_engineering.indicators import (\n",
    "    simple_moving_average,\n",
    "    momentum,\n",
    "    cci,\n",
    "    williams_r,\n",
    "    exponential_moving_average,\n",
    "    bollinger_bands,\n",
    "    macd,\n",
    "    atr,\n",
    "    obv\n",
    ")\n",
    "from feature_engineering.time_based_features import add_time_based_features"
   ]
  },
  {
   "cell_type": "code",
   "execution_count": 4,
   "metadata": {},
   "outputs": [],
   "source": [
    "data = pd.read_csv('../data/binance/BTC/1h.csv')"
   ]
  },
  {
   "cell_type": "code",
   "execution_count": 5,
   "metadata": {},
   "outputs": [
    {
     "data": {
      "text/html": [
       "<div>\n",
       "<style scoped>\n",
       "    .dataframe tbody tr th:only-of-type {\n",
       "        vertical-align: middle;\n",
       "    }\n",
       "\n",
       "    .dataframe tbody tr th {\n",
       "        vertical-align: top;\n",
       "    }\n",
       "\n",
       "    .dataframe thead th {\n",
       "        text-align: right;\n",
       "    }\n",
       "</style>\n",
       "<table border=\"1\" class=\"dataframe\">\n",
       "  <thead>\n",
       "    <tr style=\"text-align: right;\">\n",
       "      <th></th>\n",
       "      <th>Open Time</th>\n",
       "      <th>Open</th>\n",
       "      <th>High</th>\n",
       "      <th>Low</th>\n",
       "      <th>Close</th>\n",
       "      <th>Volume</th>\n",
       "      <th>Close Time</th>\n",
       "      <th>Quote Asset Volume</th>\n",
       "      <th>Number of Trades</th>\n",
       "      <th>Taker Buy Base Asset Volume</th>\n",
       "      <th>Taker Buy Quote Asset Volume</th>\n",
       "      <th>Ignore</th>\n",
       "    </tr>\n",
       "  </thead>\n",
       "  <tbody>\n",
       "    <tr>\n",
       "      <th>0</th>\n",
       "      <td>2024-09-17 19:00:00</td>\n",
       "      <td>60540.17</td>\n",
       "      <td>60696.48</td>\n",
       "      <td>59618.26</td>\n",
       "      <td>59967.99</td>\n",
       "      <td>2112.05320</td>\n",
       "      <td>2024-09-17 19:59:59.999</td>\n",
       "      <td>1.270612e+08</td>\n",
       "      <td>322417</td>\n",
       "      <td>881.13029</td>\n",
       "      <td>5.299674e+07</td>\n",
       "      <td>0</td>\n",
       "    </tr>\n",
       "    <tr>\n",
       "      <th>1</th>\n",
       "      <td>2024-09-17 20:00:00</td>\n",
       "      <td>59967.98</td>\n",
       "      <td>60342.85</td>\n",
       "      <td>59715.42</td>\n",
       "      <td>60120.00</td>\n",
       "      <td>1665.06151</td>\n",
       "      <td>2024-09-17 20:59:59.999</td>\n",
       "      <td>9.996920e+07</td>\n",
       "      <td>208296</td>\n",
       "      <td>828.74091</td>\n",
       "      <td>4.975709e+07</td>\n",
       "      <td>0</td>\n",
       "    </tr>\n",
       "    <tr>\n",
       "      <th>2</th>\n",
       "      <td>2024-09-17 21:00:00</td>\n",
       "      <td>60119.99</td>\n",
       "      <td>60424.25</td>\n",
       "      <td>60105.01</td>\n",
       "      <td>60334.07</td>\n",
       "      <td>662.68788</td>\n",
       "      <td>2024-09-17 21:59:59.999</td>\n",
       "      <td>3.997326e+07</td>\n",
       "      <td>85064</td>\n",
       "      <td>356.50218</td>\n",
       "      <td>2.150287e+07</td>\n",
       "      <td>0</td>\n",
       "    </tr>\n",
       "    <tr>\n",
       "      <th>3</th>\n",
       "      <td>2024-09-17 22:00:00</td>\n",
       "      <td>60334.07</td>\n",
       "      <td>60343.99</td>\n",
       "      <td>60122.50</td>\n",
       "      <td>60240.01</td>\n",
       "      <td>424.37655</td>\n",
       "      <td>2024-09-17 22:59:59.999</td>\n",
       "      <td>2.556103e+07</td>\n",
       "      <td>94677</td>\n",
       "      <td>173.20763</td>\n",
       "      <td>1.043171e+07</td>\n",
       "      <td>0</td>\n",
       "    </tr>\n",
       "    <tr>\n",
       "      <th>4</th>\n",
       "      <td>2024-09-17 23:00:00</td>\n",
       "      <td>60240.01</td>\n",
       "      <td>60324.00</td>\n",
       "      <td>60005.31</td>\n",
       "      <td>60313.99</td>\n",
       "      <td>489.52738</td>\n",
       "      <td>2024-09-17 23:59:59.999</td>\n",
       "      <td>2.945738e+07</td>\n",
       "      <td>73556</td>\n",
       "      <td>267.66050</td>\n",
       "      <td>1.610952e+07</td>\n",
       "      <td>0</td>\n",
       "    </tr>\n",
       "  </tbody>\n",
       "</table>\n",
       "</div>"
      ],
      "text/plain": [
       "             Open Time      Open      High       Low     Close      Volume  \\\n",
       "0  2024-09-17 19:00:00  60540.17  60696.48  59618.26  59967.99  2112.05320   \n",
       "1  2024-09-17 20:00:00  59967.98  60342.85  59715.42  60120.00  1665.06151   \n",
       "2  2024-09-17 21:00:00  60119.99  60424.25  60105.01  60334.07   662.68788   \n",
       "3  2024-09-17 22:00:00  60334.07  60343.99  60122.50  60240.01   424.37655   \n",
       "4  2024-09-17 23:00:00  60240.01  60324.00  60005.31  60313.99   489.52738   \n",
       "\n",
       "                Close Time  Quote Asset Volume  Number of Trades  \\\n",
       "0  2024-09-17 19:59:59.999        1.270612e+08            322417   \n",
       "1  2024-09-17 20:59:59.999        9.996920e+07            208296   \n",
       "2  2024-09-17 21:59:59.999        3.997326e+07             85064   \n",
       "3  2024-09-17 22:59:59.999        2.556103e+07             94677   \n",
       "4  2024-09-17 23:59:59.999        2.945738e+07             73556   \n",
       "\n",
       "   Taker Buy Base Asset Volume  Taker Buy Quote Asset Volume  Ignore  \n",
       "0                    881.13029                  5.299674e+07       0  \n",
       "1                    828.74091                  4.975709e+07       0  \n",
       "2                    356.50218                  2.150287e+07       0  \n",
       "3                    173.20763                  1.043171e+07       0  \n",
       "4                    267.66050                  1.610952e+07       0  "
      ]
     },
     "execution_count": 5,
     "metadata": {},
     "output_type": "execute_result"
    }
   ],
   "source": [
    "data.head()"
   ]
  },
  {
   "cell_type": "code",
   "execution_count": 6,
   "metadata": {},
   "outputs": [],
   "source": [
    "# Ensure data is sorted by date\n",
    "data['Date'] = pd.to_datetime(data['Open Time'])\n",
    "data.sort_values('Date', inplace=True)"
   ]
  },
  {
   "cell_type": "code",
   "execution_count": 7,
   "metadata": {},
   "outputs": [],
   "source": [
    "# Apply Simple Moving Average (SMA)\n",
    "data = simple_moving_average(data, 'Close', window=5)\n",
    "data = simple_moving_average(data, 'Close', window=10)\n",
    "\n",
    "# Apply Momentum (MTM)\n",
    "data = momentum(data, 'Close', window=5)\n",
    "data = momentum(data, 'Close', window=10)\n",
    "\n",
    "# Apply Exponential Moving Average (EMA)\n",
    "data = exponential_moving_average(data, 'Close', span=5)\n",
    "data = exponential_moving_average(data, 'Close', span=10)\n",
    "\n",
    "# Apply Bollinger Bands (BB)\n",
    "data = bollinger_bands(data, 'Close', window=20)\n",
    "\n",
    "# Apply Moving Average Convergence Divergence (MACD)\n",
    "data = macd(data, 'Close')\n",
    "\n",
    "# Apply Average True Range (ATR)\n",
    "data = atr(data, window=14)\n",
    "\n",
    "# Apply On-Balance Volume (OBV)\n",
    "data = obv(data)\n",
    "\n",
    "# Apply Commodity Channel Index (CCI)\n",
    "data = cci(data, window=20)\n",
    "\n",
    "# Apply Williams %R\n",
    "data = williams_r(data, window=14)\n",
    "\n",
    "# Apply time-based features\n",
    "data = add_time_based_features(data, 'Date')"
   ]
  },
  {
   "cell_type": "code",
   "execution_count": 8,
   "metadata": {},
   "outputs": [],
   "source": [
    "data.dropna(inplace=True)"
   ]
  },
  {
   "cell_type": "markdown",
   "metadata": {},
   "source": [
    "## Create Lagged Features\n",
    "\n",
    "Use past data points as features to predict the next data points"
   ]
  },
  {
   "cell_type": "code",
   "execution_count": 9,
   "metadata": {},
   "outputs": [
    {
     "data": {
      "text/html": [
       "<div>\n",
       "<style scoped>\n",
       "    .dataframe tbody tr th:only-of-type {\n",
       "        vertical-align: middle;\n",
       "    }\n",
       "\n",
       "    .dataframe tbody tr th {\n",
       "        vertical-align: top;\n",
       "    }\n",
       "\n",
       "    .dataframe thead th {\n",
       "        text-align: right;\n",
       "    }\n",
       "</style>\n",
       "<table border=\"1\" class=\"dataframe\">\n",
       "  <thead>\n",
       "    <tr style=\"text-align: right;\">\n",
       "      <th></th>\n",
       "      <th>Open Time</th>\n",
       "      <th>Open</th>\n",
       "      <th>High</th>\n",
       "      <th>Low</th>\n",
       "      <th>Close</th>\n",
       "      <th>Volume</th>\n",
       "      <th>Close Time</th>\n",
       "      <th>Quote Asset Volume</th>\n",
       "      <th>Number of Trades</th>\n",
       "      <th>Taker Buy Base Asset Volume</th>\n",
       "      <th>...</th>\n",
       "      <th>CCI_20</th>\n",
       "      <th>Williams_%R_14</th>\n",
       "      <th>Day_of_Week</th>\n",
       "      <th>Hour_of_Day</th>\n",
       "      <th>Month_of_Year</th>\n",
       "      <th>Close_lag_1</th>\n",
       "      <th>Close_lag_2</th>\n",
       "      <th>Close_lag_3</th>\n",
       "      <th>Close_lag_4</th>\n",
       "      <th>Close_lag_5</th>\n",
       "    </tr>\n",
       "  </thead>\n",
       "  <tbody>\n",
       "    <tr>\n",
       "      <th>24</th>\n",
       "      <td>2024-09-18 19:00:00</td>\n",
       "      <td>60629.79</td>\n",
       "      <td>60745.99</td>\n",
       "      <td>59987.25</td>\n",
       "      <td>60057.99</td>\n",
       "      <td>3156.74947</td>\n",
       "      <td>2024-09-18 19:59:59.999</td>\n",
       "      <td>1.905570e+08</td>\n",
       "      <td>753066</td>\n",
       "      <td>1532.69879</td>\n",
       "      <td>...</td>\n",
       "      <td>43.420706</td>\n",
       "      <td>-58.802594</td>\n",
       "      <td>2</td>\n",
       "      <td>19</td>\n",
       "      <td>9</td>\n",
       "      <td>60629.79</td>\n",
       "      <td>60013.01</td>\n",
       "      <td>59915.26</td>\n",
       "      <td>59429.18</td>\n",
       "      <td>59487.60</td>\n",
       "    </tr>\n",
       "    <tr>\n",
       "      <th>25</th>\n",
       "      <td>2024-09-18 20:00:00</td>\n",
       "      <td>60057.99</td>\n",
       "      <td>60320.00</td>\n",
       "      <td>59473.68</td>\n",
       "      <td>60230.01</td>\n",
       "      <td>2083.48272</td>\n",
       "      <td>2024-09-18 20:59:59.999</td>\n",
       "      <td>1.247339e+08</td>\n",
       "      <td>286619</td>\n",
       "      <td>995.87495</td>\n",
       "      <td>...</td>\n",
       "      <td>-12.175255</td>\n",
       "      <td>-50.778524</td>\n",
       "      <td>2</td>\n",
       "      <td>20</td>\n",
       "      <td>9</td>\n",
       "      <td>60057.99</td>\n",
       "      <td>60629.79</td>\n",
       "      <td>60013.01</td>\n",
       "      <td>59915.26</td>\n",
       "      <td>59429.18</td>\n",
       "    </tr>\n",
       "    <tr>\n",
       "      <th>26</th>\n",
       "      <td>2024-09-18 21:00:00</td>\n",
       "      <td>60230.01</td>\n",
       "      <td>60496.95</td>\n",
       "      <td>60168.04</td>\n",
       "      <td>60199.46</td>\n",
       "      <td>808.61440</td>\n",
       "      <td>2024-09-18 21:59:59.999</td>\n",
       "      <td>4.877547e+07</td>\n",
       "      <td>104108</td>\n",
       "      <td>372.10512</td>\n",
       "      <td>...</td>\n",
       "      <td>47.715405</td>\n",
       "      <td>-52.203564</td>\n",
       "      <td>2</td>\n",
       "      <td>21</td>\n",
       "      <td>9</td>\n",
       "      <td>60230.01</td>\n",
       "      <td>60057.99</td>\n",
       "      <td>60629.79</td>\n",
       "      <td>60013.01</td>\n",
       "      <td>59915.26</td>\n",
       "    </tr>\n",
       "    <tr>\n",
       "      <th>27</th>\n",
       "      <td>2024-09-18 22:00:00</td>\n",
       "      <td>60199.46</td>\n",
       "      <td>60700.00</td>\n",
       "      <td>60194.00</td>\n",
       "      <td>60684.78</td>\n",
       "      <td>732.26197</td>\n",
       "      <td>2024-09-18 22:59:59.999</td>\n",
       "      <td>4.429355e+07</td>\n",
       "      <td>105072</td>\n",
       "      <td>401.74056</td>\n",
       "      <td>...</td>\n",
       "      <td>92.793425</td>\n",
       "      <td>-29.565258</td>\n",
       "      <td>2</td>\n",
       "      <td>22</td>\n",
       "      <td>9</td>\n",
       "      <td>60199.46</td>\n",
       "      <td>60230.01</td>\n",
       "      <td>60057.99</td>\n",
       "      <td>60629.79</td>\n",
       "      <td>60013.01</td>\n",
       "    </tr>\n",
       "    <tr>\n",
       "      <th>28</th>\n",
       "      <td>2024-09-18 23:00:00</td>\n",
       "      <td>60684.78</td>\n",
       "      <td>61786.24</td>\n",
       "      <td>60680.00</td>\n",
       "      <td>61759.99</td>\n",
       "      <td>2346.43342</td>\n",
       "      <td>2024-09-18 23:59:59.999</td>\n",
       "      <td>1.437302e+08</td>\n",
       "      <td>252632</td>\n",
       "      <td>1465.86349</td>\n",
       "      <td>...</td>\n",
       "      <td>236.260632</td>\n",
       "      <td>-1.005193</td>\n",
       "      <td>2</td>\n",
       "      <td>23</td>\n",
       "      <td>9</td>\n",
       "      <td>60684.78</td>\n",
       "      <td>60199.46</td>\n",
       "      <td>60230.01</td>\n",
       "      <td>60057.99</td>\n",
       "      <td>60629.79</td>\n",
       "    </tr>\n",
       "  </tbody>\n",
       "</table>\n",
       "<p>5 rows × 39 columns</p>\n",
       "</div>"
      ],
      "text/plain": [
       "              Open Time      Open      High       Low     Close      Volume  \\\n",
       "24  2024-09-18 19:00:00  60629.79  60745.99  59987.25  60057.99  3156.74947   \n",
       "25  2024-09-18 20:00:00  60057.99  60320.00  59473.68  60230.01  2083.48272   \n",
       "26  2024-09-18 21:00:00  60230.01  60496.95  60168.04  60199.46   808.61440   \n",
       "27  2024-09-18 22:00:00  60199.46  60700.00  60194.00  60684.78   732.26197   \n",
       "28  2024-09-18 23:00:00  60684.78  61786.24  60680.00  61759.99  2346.43342   \n",
       "\n",
       "                 Close Time  Quote Asset Volume  Number of Trades  \\\n",
       "24  2024-09-18 19:59:59.999        1.905570e+08            753066   \n",
       "25  2024-09-18 20:59:59.999        1.247339e+08            286619   \n",
       "26  2024-09-18 21:59:59.999        4.877547e+07            104108   \n",
       "27  2024-09-18 22:59:59.999        4.429355e+07            105072   \n",
       "28  2024-09-18 23:59:59.999        1.437302e+08            252632   \n",
       "\n",
       "    Taker Buy Base Asset Volume  ...      CCI_20  Williams_%R_14 Day_of_Week  \\\n",
       "24                   1532.69879  ...   43.420706      -58.802594           2   \n",
       "25                    995.87495  ...  -12.175255      -50.778524           2   \n",
       "26                    372.10512  ...   47.715405      -52.203564           2   \n",
       "27                    401.74056  ...   92.793425      -29.565258           2   \n",
       "28                   1465.86349  ...  236.260632       -1.005193           2   \n",
       "\n",
       "    Hour_of_Day  Month_of_Year  Close_lag_1  Close_lag_2  Close_lag_3  \\\n",
       "24           19              9     60629.79     60013.01     59915.26   \n",
       "25           20              9     60057.99     60629.79     60013.01   \n",
       "26           21              9     60230.01     60057.99     60629.79   \n",
       "27           22              9     60199.46     60230.01     60057.99   \n",
       "28           23              9     60684.78     60199.46     60230.01   \n",
       "\n",
       "    Close_lag_4  Close_lag_5  \n",
       "24     59429.18     59487.60  \n",
       "25     59915.26     59429.18  \n",
       "26     60013.01     59915.26  \n",
       "27     60629.79     60013.01  \n",
       "28     60057.99     60629.79  \n",
       "\n",
       "[5 rows x 39 columns]"
      ]
     },
     "execution_count": 9,
     "metadata": {},
     "output_type": "execute_result"
    }
   ],
   "source": [
    "for lag in range(1, 6):\n",
    "    data[f'Close_lag_{lag}'] = data['Close'].shift(lag)\n",
    "                                                   \n",
    "data.dropna(inplace=True)\n",
    "data.head()"
   ]
  },
  {
   "cell_type": "markdown",
   "metadata": {},
   "source": [
    "### Split the data into features and target"
   ]
  },
  {
   "cell_type": "code",
   "execution_count": 10,
   "metadata": {},
   "outputs": [],
   "source": [
    "features = data[['Close_lag_1', 'Close_lag_2', 'Close_lag_3', 'Close_lag_4', 'Close_lag_5',\n",
    "                 'SMA_5', 'SMA_10', 'MTM_5', 'MTM_10', 'EMA_5', 'EMA_10', 'MA', 'UB', 'LB', 'MACD',\n",
    "                 'Signal_Line', 'ATR_14', 'OBV', 'CCI_20', 'Williams_%R_14', \n",
    "                 'Day_of_Week', 'Hour_of_Day', 'Month_of_Year']]\n",
    "target = data['Close']"
   ]
  },
  {
   "cell_type": "code",
   "execution_count": 11,
   "metadata": {},
   "outputs": [],
   "source": [
    "# Split the data into training and testing sets\n",
    "X_train, X_test, y_train, y_test = train_test_split(features, target, test_size=0.2, random_state=42)"
   ]
  },
  {
   "cell_type": "markdown",
   "metadata": {},
   "source": [
    "### Preprocessing"
   ]
  },
  {
   "cell_type": "code",
   "execution_count": 12,
   "metadata": {},
   "outputs": [],
   "source": [
    "from sklearn.preprocessing import StandardScaler\n",
    "\n",
    "scaler = StandardScaler()\n",
    "X_train_scaled = scaler.fit_transform(X_train)\n",
    "X_test_scaled = scaler.transform(X_test)"
   ]
  },
  {
   "cell_type": "code",
   "execution_count": 13,
   "metadata": {},
   "outputs": [
    {
     "name": "stdout",
     "output_type": "stream",
     "text": [
      "Best parameters found: {'learning_rate': 0.2, 'max_depth': 3, 'min_samples_leaf': 4, 'min_samples_split': 10, 'n_estimators': 300}\n"
     ]
    }
   ],
   "source": [
    "param_grid = {\n",
    "    'n_estimators': [50, 100, 200, 300],\n",
    "    'learning_rate': [0.01, 0.05, 0.1, 0.2],\n",
    "    'max_depth': [3, 4, 5],\n",
    "    'min_samples_split': [2, 5, 10, 15],\n",
    "    'min_samples_leaf': [1, 2, 4]\n",
    "}\n",
    "\n",
    "gbr = GradientBoostingRegressor()\n",
    "\n",
    "grid_search = GridSearchCV(estimator=gbr,\n",
    "                           param_grid=param_grid,\n",
    "                           cv=3,\n",
    "                           n_jobs=-1,\n",
    "                           scoring='neg_mean_squared_error'\n",
    "                           )\n",
    "\n",
    "grid_search.fit(X_train_scaled, y_train)\n",
    "\n",
    "best_params = grid_search.best_params_\n",
    "print(f'Best parameters found: {best_params}')"
   ]
  },
  {
   "cell_type": "code",
   "execution_count": 14,
   "metadata": {},
   "outputs": [
    {
     "name": "stdout",
     "output_type": "stream",
     "text": [
      "Mean Squared Error: 20440.70058473591\n",
      "R^2 Score: 0.9948791163020775\n"
     ]
    }
   ],
   "source": [
    "best_gbr = GradientBoostingRegressor(**best_params)\n",
    "best_gbr.fit(X_train_scaled, y_train)\n",
    "\n",
    "y_pred = best_gbr.predict(X_test_scaled)\n",
    "print(f'Mean Squared Error: {mean_squared_error(y_test, y_pred)}')\n",
    "print(f'R^2 Score: {r2_score(y_test, y_pred)}')"
   ]
  },
  {
   "cell_type": "code",
   "execution_count": 15,
   "metadata": {},
   "outputs": [
    {
     "name": "stdout",
     "output_type": "stream",
     "text": [
      "Cross-Validation MSE: [41983.22590207 26576.49434041 14778.19296578 22831.36532188\n",
      " 34364.50435841]\n",
      "Mean Cross-Validation MSE: 28106.756577712134\n",
      "Standard Deviation of Cross-Validation MSE: 9375.903919845885\n"
     ]
    }
   ],
   "source": [
    "from sklearn.model_selection import cross_val_score\n",
    "\n",
    "# Perform cross-validation\n",
    "cv_scores = cross_val_score(best_gbr, X_train_scaled, y_train, cv=5, scoring='neg_mean_squared_error')\n",
    "\n",
    "# Convert negative MSE to positive\n",
    "cv_scores = -cv_scores\n",
    "\n",
    "print(f'Cross-Validation MSE: {cv_scores}')\n",
    "print(f'Mean Cross-Validation MSE: {cv_scores.mean()}')\n",
    "print(f'Standard Deviation of Cross-Validation MSE: {cv_scores.std()}')"
   ]
  },
  {
   "cell_type": "markdown",
   "metadata": {},
   "source": [
    "### Try Randomized Search for better performance"
   ]
  },
  {
   "cell_type": "code",
   "execution_count": 16,
   "metadata": {},
   "outputs": [
    {
     "name": "stdout",
     "output_type": "stream",
     "text": [
      "Best parameters found: {'learning_rate': 0.08982951789667752, 'max_depth': 3, 'min_samples_leaf': 8, 'min_samples_split': 9, 'n_estimators': 499}\n",
      "Mean Squared Error: 16653.56804130144\n",
      "R^2 Score: 0.9958278834552947\n",
      "Cross-Validation MSE: [38291.62241157 22161.40759631 13659.94983642 23732.57386811\n",
      " 27806.11560194]\n",
      "Mean Cross-Validation MSE: 25130.333862868894\n",
      "Standard Deviation of Cross-Validation MSE: 8033.8943243080885\n"
     ]
    }
   ],
   "source": [
    "from sklearn.model_selection import RandomizedSearchCV\n",
    "from scipy.stats import uniform, randint\n",
    "\n",
    "# Define the parameter distribution for Random Search\n",
    "param_dist = {\n",
    "    'n_estimators': randint(100, 500),\n",
    "    'learning_rate': uniform(0.01, 0.1),\n",
    "    'max_depth': randint(3, 10),\n",
    "    'min_samples_split': randint(2, 10),\n",
    "    'min_samples_leaf': randint(1, 10)\n",
    "}\n",
    "\n",
    "# Initialize the model\n",
    "gbr = GradientBoostingRegressor()\n",
    "\n",
    "# Initialize Random Search\n",
    "random_search = RandomizedSearchCV(estimator=gbr, param_distributions=param_dist, n_iter=100, cv=5, n_jobs=-1, scoring='neg_mean_squared_error', random_state=42)\n",
    "\n",
    "# Perform Random Search\n",
    "random_search.fit(X_train_scaled, y_train)\n",
    "\n",
    "# Get the best parameters\n",
    "best_params = random_search.best_params_\n",
    "print(f'Best parameters found: {best_params}')\n",
    "\n",
    "# Train the model with the best parameters\n",
    "best_gbr = GradientBoostingRegressor(**best_params)\n",
    "best_gbr.fit(X_train_scaled, y_train)\n",
    "\n",
    "# Evaluate the model\n",
    "y_pred = best_gbr.predict(X_test_scaled)\n",
    "print(f'Mean Squared Error: {mean_squared_error(y_test, y_pred)}')\n",
    "print(f'R^2 Score: {r2_score(y_test, y_pred)}')\n",
    "\n",
    "# Perform cross-validation with the best model\n",
    "cv_scores = cross_val_score(best_gbr, X_train_scaled, y_train, cv=5, scoring='neg_mean_squared_error')\n",
    "cv_scores = -cv_scores\n",
    "\n",
    "print(f'Cross-Validation MSE: {cv_scores}')\n",
    "print(f'Mean Cross-Validation MSE: {cv_scores.mean()}')\n",
    "print(f'Standard Deviation of Cross-Validation MSE: {cv_scores.std()}')"
   ]
  },
  {
   "cell_type": "markdown",
   "metadata": {},
   "source": [
    "### Try TimeSeriesSplit Cross Validation\n",
    "\n",
    "more approriate because data is time-series"
   ]
  },
  {
   "cell_type": "code",
   "execution_count": 17,
   "metadata": {},
   "outputs": [
    {
     "name": "stdout",
     "output_type": "stream",
     "text": [
      "TimeSeriesSplit Cross-Validation MSE: [72980.3578514  23096.20706707 17856.10947758 24515.62351105\n",
      " 29408.89624149]\n",
      "Mean TimeSeriesSplit Cross-Validation MSE: 33571.43882971748\n",
      "Standard Deviation of TimeSeriesSplit Cross-Validation MSE: 20045.44590409118\n"
     ]
    }
   ],
   "source": [
    "from sklearn.model_selection import TimeSeriesSplit\n",
    "\n",
    "# Initialize TimeSeriesSplit\n",
    "tscv = TimeSeriesSplit(n_splits=5)\n",
    "\n",
    "# Perform cross-validation with TimeSeriesSplit\n",
    "cv_scores = cross_val_score(best_gbr, X_train_scaled, y_train, cv=tscv, scoring='neg_mean_squared_error')\n",
    "cv_scores = -cv_scores\n",
    "\n",
    "print(f'TimeSeriesSplit Cross-Validation MSE: {cv_scores}')\n",
    "print(f'Mean TimeSeriesSplit Cross-Validation MSE: {cv_scores.mean()}')\n",
    "print(f'Standard Deviation of TimeSeriesSplit Cross-Validation MSE: {cv_scores.std()}')"
   ]
  },
  {
   "cell_type": "markdown",
   "metadata": {},
   "source": [
    "### Experiment with Xgboost\n",
    "\n",
    "### Makes it worse!!"
   ]
  },
  {
   "cell_type": "code",
   "execution_count": 18,
   "metadata": {},
   "outputs": [
    {
     "name": "stdout",
     "output_type": "stream",
     "text": [
      "TimeSeriesSplit Cross-Validation MSE with XGBoost: [94425.54289248 40811.75333099 24151.84912017 31771.73160418\n",
      " 48462.51841967]\n",
      "Mean TimeSeriesSplit Cross-Validation MSE with XGBoost: 47924.67907349551\n",
      "Standard Deviation of TimeSeriesSplit Cross-Validation MSE with XGBoost: 24654.729670505287\n",
      "Mean Squared Error with XGBoost: 26678.551456901136\n",
      "R^2 Score with XGBoost: 0.9933163856750657\n"
     ]
    }
   ],
   "source": [
    "import xgboost as xgb\n",
    "from sklearn.model_selection import TimeSeriesSplit, cross_val_score\n",
    "\n",
    "# Initialize the XGBoost model\n",
    "xgbr = xgb.XGBRegressor(objective='reg:squarederror')\n",
    "\n",
    "# Perform cross-validation with TimeSeriesSplit\n",
    "tscv = TimeSeriesSplit(n_splits=5)\n",
    "cv_scores = cross_val_score(xgbr, X_train_scaled, y_train, cv=tscv, scoring='neg_mean_squared_error')\n",
    "cv_scores = -cv_scores\n",
    "\n",
    "print(f'TimeSeriesSplit Cross-Validation MSE with XGBoost: {cv_scores}')\n",
    "print(f'Mean TimeSeriesSplit Cross-Validation MSE with XGBoost: {cv_scores.mean()}')\n",
    "print(f'Standard Deviation of TimeSeriesSplit Cross-Validation MSE with XGBoost: {cv_scores.std()}')\n",
    "\n",
    "# Train the XGBoost model with the entire training set\n",
    "xgbr.fit(X_train_scaled, y_train)\n",
    "\n",
    "# Evaluate the model\n",
    "y_pred = xgbr.predict(X_test_scaled)\n",
    "print(f'Mean Squared Error with XGBoost: {mean_squared_error(y_test, y_pred)}')\n",
    "print(f'R^2 Score with XGBoost: {r2_score(y_test, y_pred)}')"
   ]
  }
 ],
 "metadata": {
  "kernelspec": {
   "display_name": "Python 3",
   "language": "python",
   "name": "python3"
  },
  "language_info": {
   "codemirror_mode": {
    "name": "ipython",
    "version": 3
   },
   "file_extension": ".py",
   "mimetype": "text/x-python",
   "name": "python",
   "nbconvert_exporter": "python",
   "pygments_lexer": "ipython3",
   "version": "3.10.0"
  }
 },
 "nbformat": 4,
 "nbformat_minor": 2
}
