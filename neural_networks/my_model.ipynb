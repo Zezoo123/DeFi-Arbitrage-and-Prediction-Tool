{
 "cells": [
  {
   "cell_type": "markdown",
   "metadata": {},
   "source": [
    "## Import libraries"
   ]
  },
  {
   "cell_type": "code",
   "execution_count": 2,
   "metadata": {},
   "outputs": [],
   "source": [
    "import pandas as pd\n",
    "from sklearn.preprocessing import StandardScaler\n",
    "from sklearn.manifold import Isomap\n",
    "import umap\n",
    "from sklearn.ensemble import GradientBoostingRegressor, RandomForestRegressor\n",
    "from sklearn.model_selection import train_test_split, GridSearchCV\n",
    "from sklearn.metrics import mean_squared_error, r2_score\n",
    "import matplotlib.pyplot as plt"
   ]
  },
  {
   "cell_type": "markdown",
   "metadata": {},
   "source": [
    "## Load the data"
   ]
  },
  {
   "cell_type": "code",
   "execution_count": 26,
   "metadata": {},
   "outputs": [
    {
     "data": {
      "text/html": [
       "<div>\n",
       "<style scoped>\n",
       "    .dataframe tbody tr th:only-of-type {\n",
       "        vertical-align: middle;\n",
       "    }\n",
       "\n",
       "    .dataframe tbody tr th {\n",
       "        vertical-align: top;\n",
       "    }\n",
       "\n",
       "    .dataframe thead th {\n",
       "        text-align: right;\n",
       "    }\n",
       "</style>\n",
       "<table border=\"1\" class=\"dataframe\">\n",
       "  <thead>\n",
       "    <tr style=\"text-align: right;\">\n",
       "      <th></th>\n",
       "      <th>Open Time</th>\n",
       "      <th>Open</th>\n",
       "      <th>High</th>\n",
       "      <th>Low</th>\n",
       "      <th>Close</th>\n",
       "      <th>Volume</th>\n",
       "      <th>Close Time</th>\n",
       "      <th>Quote Asset Volume</th>\n",
       "      <th>Number of Trades</th>\n",
       "      <th>Taker Buy Base Asset Volume</th>\n",
       "      <th>Taker Buy Quote Asset Volume</th>\n",
       "      <th>Ignore</th>\n",
       "    </tr>\n",
       "  </thead>\n",
       "  <tbody>\n",
       "    <tr>\n",
       "      <th>0</th>\n",
       "      <td>2024-09-17 18:30:00</td>\n",
       "      <td>61001.53</td>\n",
       "      <td>61040.00</td>\n",
       "      <td>60363.81</td>\n",
       "      <td>60540.17</td>\n",
       "      <td>842.67064</td>\n",
       "      <td>2024-09-17 18:59:59.999</td>\n",
       "      <td>5.110573e+07</td>\n",
       "      <td>92376</td>\n",
       "      <td>370.60610</td>\n",
       "      <td>2.246875e+07</td>\n",
       "      <td>0</td>\n",
       "    </tr>\n",
       "    <tr>\n",
       "      <th>1</th>\n",
       "      <td>2024-09-17 19:00:00</td>\n",
       "      <td>60540.17</td>\n",
       "      <td>60696.48</td>\n",
       "      <td>60312.00</td>\n",
       "      <td>60420.00</td>\n",
       "      <td>602.84658</td>\n",
       "      <td>2024-09-17 19:29:59.999</td>\n",
       "      <td>3.647998e+07</td>\n",
       "      <td>115625</td>\n",
       "      <td>254.96717</td>\n",
       "      <td>1.542864e+07</td>\n",
       "      <td>0</td>\n",
       "    </tr>\n",
       "    <tr>\n",
       "      <th>2</th>\n",
       "      <td>2024-09-17 19:30:00</td>\n",
       "      <td>60419.99</td>\n",
       "      <td>60448.00</td>\n",
       "      <td>59618.26</td>\n",
       "      <td>59967.99</td>\n",
       "      <td>1509.20662</td>\n",
       "      <td>2024-09-17 19:59:59.999</td>\n",
       "      <td>9.058118e+07</td>\n",
       "      <td>206792</td>\n",
       "      <td>626.16312</td>\n",
       "      <td>3.756810e+07</td>\n",
       "      <td>0</td>\n",
       "    </tr>\n",
       "    <tr>\n",
       "      <th>3</th>\n",
       "      <td>2024-09-17 20:00:00</td>\n",
       "      <td>59967.98</td>\n",
       "      <td>60210.27</td>\n",
       "      <td>59715.42</td>\n",
       "      <td>60184.15</td>\n",
       "      <td>1018.71827</td>\n",
       "      <td>2024-09-17 20:29:59.999</td>\n",
       "      <td>6.110518e+07</td>\n",
       "      <td>117681</td>\n",
       "      <td>554.74599</td>\n",
       "      <td>3.328095e+07</td>\n",
       "      <td>0</td>\n",
       "    </tr>\n",
       "    <tr>\n",
       "      <th>4</th>\n",
       "      <td>2024-09-17 20:30:00</td>\n",
       "      <td>60184.15</td>\n",
       "      <td>60342.85</td>\n",
       "      <td>59980.00</td>\n",
       "      <td>60120.00</td>\n",
       "      <td>646.34324</td>\n",
       "      <td>2024-09-17 20:59:59.999</td>\n",
       "      <td>3.886402e+07</td>\n",
       "      <td>90615</td>\n",
       "      <td>273.99492</td>\n",
       "      <td>1.647614e+07</td>\n",
       "      <td>0</td>\n",
       "    </tr>\n",
       "  </tbody>\n",
       "</table>\n",
       "</div>"
      ],
      "text/plain": [
       "             Open Time      Open      High       Low     Close      Volume  \\\n",
       "0  2024-09-17 18:30:00  61001.53  61040.00  60363.81  60540.17   842.67064   \n",
       "1  2024-09-17 19:00:00  60540.17  60696.48  60312.00  60420.00   602.84658   \n",
       "2  2024-09-17 19:30:00  60419.99  60448.00  59618.26  59967.99  1509.20662   \n",
       "3  2024-09-17 20:00:00  59967.98  60210.27  59715.42  60184.15  1018.71827   \n",
       "4  2024-09-17 20:30:00  60184.15  60342.85  59980.00  60120.00   646.34324   \n",
       "\n",
       "                Close Time  Quote Asset Volume  Number of Trades  \\\n",
       "0  2024-09-17 18:59:59.999        5.110573e+07             92376   \n",
       "1  2024-09-17 19:29:59.999        3.647998e+07            115625   \n",
       "2  2024-09-17 19:59:59.999        9.058118e+07            206792   \n",
       "3  2024-09-17 20:29:59.999        6.110518e+07            117681   \n",
       "4  2024-09-17 20:59:59.999        3.886402e+07             90615   \n",
       "\n",
       "   Taker Buy Base Asset Volume  Taker Buy Quote Asset Volume  Ignore  \n",
       "0                    370.60610                  2.246875e+07       0  \n",
       "1                    254.96717                  1.542864e+07       0  \n",
       "2                    626.16312                  3.756810e+07       0  \n",
       "3                    554.74599                  3.328095e+07       0  \n",
       "4                    273.99492                  1.647614e+07       0  "
      ]
     },
     "execution_count": 26,
     "metadata": {},
     "output_type": "execute_result"
    }
   ],
   "source": [
    "path_to_data_directory = '../data/'\n",
    "exchange = 'binance'\n",
    "coin = 'BTC'\n",
    "interval = '30m'\n",
    "data = pd.read_csv(path_to_data_directory + exchange + '/' + coin + '/' + interval + '.csv')\n",
    "data.head()"
   ]
  },
  {
   "cell_type": "markdown",
   "metadata": {},
   "source": [
    "## Preprocessing"
   ]
  },
  {
   "cell_type": "markdown",
   "metadata": {},
   "source": [
    "split the features and target value"
   ]
  },
  {
   "cell_type": "code",
   "execution_count": 27,
   "metadata": {},
   "outputs": [
    {
     "data": {
      "text/html": [
       "<div>\n",
       "<style scoped>\n",
       "    .dataframe tbody tr th:only-of-type {\n",
       "        vertical-align: middle;\n",
       "    }\n",
       "\n",
       "    .dataframe tbody tr th {\n",
       "        vertical-align: top;\n",
       "    }\n",
       "\n",
       "    .dataframe thead th {\n",
       "        text-align: right;\n",
       "    }\n",
       "</style>\n",
       "<table border=\"1\" class=\"dataframe\">\n",
       "  <thead>\n",
       "    <tr style=\"text-align: right;\">\n",
       "      <th></th>\n",
       "      <th>Open</th>\n",
       "      <th>High</th>\n",
       "      <th>Low</th>\n",
       "      <th>Volume</th>\n",
       "      <th>Quote Asset Volume</th>\n",
       "      <th>Number of Trades</th>\n",
       "      <th>Taker Buy Base Asset Volume</th>\n",
       "      <th>Taker Buy Quote Asset Volume</th>\n",
       "      <th>Ignore</th>\n",
       "    </tr>\n",
       "  </thead>\n",
       "  <tbody>\n",
       "    <tr>\n",
       "      <th>0</th>\n",
       "      <td>61001.53</td>\n",
       "      <td>61040.00</td>\n",
       "      <td>60363.81</td>\n",
       "      <td>842.67064</td>\n",
       "      <td>5.110573e+07</td>\n",
       "      <td>92376</td>\n",
       "      <td>370.60610</td>\n",
       "      <td>2.246875e+07</td>\n",
       "      <td>0</td>\n",
       "    </tr>\n",
       "    <tr>\n",
       "      <th>1</th>\n",
       "      <td>60540.17</td>\n",
       "      <td>60696.48</td>\n",
       "      <td>60312.00</td>\n",
       "      <td>602.84658</td>\n",
       "      <td>3.647998e+07</td>\n",
       "      <td>115625</td>\n",
       "      <td>254.96717</td>\n",
       "      <td>1.542864e+07</td>\n",
       "      <td>0</td>\n",
       "    </tr>\n",
       "    <tr>\n",
       "      <th>2</th>\n",
       "      <td>60419.99</td>\n",
       "      <td>60448.00</td>\n",
       "      <td>59618.26</td>\n",
       "      <td>1509.20662</td>\n",
       "      <td>9.058118e+07</td>\n",
       "      <td>206792</td>\n",
       "      <td>626.16312</td>\n",
       "      <td>3.756810e+07</td>\n",
       "      <td>0</td>\n",
       "    </tr>\n",
       "    <tr>\n",
       "      <th>3</th>\n",
       "      <td>59967.98</td>\n",
       "      <td>60210.27</td>\n",
       "      <td>59715.42</td>\n",
       "      <td>1018.71827</td>\n",
       "      <td>6.110518e+07</td>\n",
       "      <td>117681</td>\n",
       "      <td>554.74599</td>\n",
       "      <td>3.328095e+07</td>\n",
       "      <td>0</td>\n",
       "    </tr>\n",
       "    <tr>\n",
       "      <th>4</th>\n",
       "      <td>60184.15</td>\n",
       "      <td>60342.85</td>\n",
       "      <td>59980.00</td>\n",
       "      <td>646.34324</td>\n",
       "      <td>3.886402e+07</td>\n",
       "      <td>90615</td>\n",
       "      <td>273.99492</td>\n",
       "      <td>1.647614e+07</td>\n",
       "      <td>0</td>\n",
       "    </tr>\n",
       "  </tbody>\n",
       "</table>\n",
       "</div>"
      ],
      "text/plain": [
       "       Open      High       Low      Volume  Quote Asset Volume  \\\n",
       "0  61001.53  61040.00  60363.81   842.67064        5.110573e+07   \n",
       "1  60540.17  60696.48  60312.00   602.84658        3.647998e+07   \n",
       "2  60419.99  60448.00  59618.26  1509.20662        9.058118e+07   \n",
       "3  59967.98  60210.27  59715.42  1018.71827        6.110518e+07   \n",
       "4  60184.15  60342.85  59980.00   646.34324        3.886402e+07   \n",
       "\n",
       "   Number of Trades  Taker Buy Base Asset Volume  \\\n",
       "0             92376                    370.60610   \n",
       "1            115625                    254.96717   \n",
       "2            206792                    626.16312   \n",
       "3            117681                    554.74599   \n",
       "4             90615                    273.99492   \n",
       "\n",
       "   Taker Buy Quote Asset Volume  Ignore  \n",
       "0                  2.246875e+07       0  \n",
       "1                  1.542864e+07       0  \n",
       "2                  3.756810e+07       0  \n",
       "3                  3.328095e+07       0  \n",
       "4                  1.647614e+07       0  "
      ]
     },
     "execution_count": 27,
     "metadata": {},
     "output_type": "execute_result"
    }
   ],
   "source": [
    "features = data.drop(columns=['Close', 'Open Time', 'Close Time'])\n",
    "target = data['Close']\n",
    "\n",
    "features.head()"
   ]
  },
  {
   "cell_type": "markdown",
   "metadata": {},
   "source": [
    "scale the features"
   ]
  },
  {
   "cell_type": "code",
   "execution_count": 28,
   "metadata": {},
   "outputs": [],
   "source": [
    "scaler = StandardScaler()\n",
    "scaled_features = scaler.fit_transform(features)"
   ]
  },
  {
   "cell_type": "markdown",
   "metadata": {},
   "source": [
    "Dimensionality reduction using isomap and umap\n",
    "\n",
    "Adjust the n_components and n_neighbors parameters\n",
    "\n",
    "TODO:\n",
    "Use Cross Validation with GridSearch to select the best values"
   ]
  },
  {
   "cell_type": "code",
   "execution_count": 29,
   "metadata": {},
   "outputs": [],
   "source": [
    "# Isomap\n",
    "isomap_transformer = Isomap(n_components=10, n_neighbors=5) # adjust n_components and n_neighbors \n",
    "isomap_features = isomap_transformer.fit_transform(scaled_features)\n",
    "\n",
    "\n",
    "# Umap\n",
    "umap_transformer = umap.UMAP(n_components=10, n_neighbors=5, metric='euclidean')\n",
    "umap_features = umap_transformer.fit_transform(scaled_features)"
   ]
  },
  {
   "cell_type": "markdown",
   "metadata": {},
   "source": [
    "## Model Training with GBR and RF"
   ]
  },
  {
   "cell_type": "markdown",
   "metadata": {},
   "source": [
    "### USING ISOMAP"
   ]
  },
  {
   "cell_type": "markdown",
   "metadata": {},
   "source": [
    "#### GBR"
   ]
  },
  {
   "cell_type": "code",
   "execution_count": 30,
   "metadata": {},
   "outputs": [
    {
     "name": "stdout",
     "output_type": "stream",
     "text": [
      "GBR RMSE: 196.59208792418806\n",
      "GBR R^2: 0.9893204043247777\n"
     ]
    },
    {
     "name": "stderr",
     "output_type": "stream",
     "text": [
      "/Library/Frameworks/Python.framework/Versions/3.10/lib/python3.10/site-packages/sklearn/metrics/_regression.py:483: FutureWarning: 'squared' is deprecated in version 1.4 and will be removed in 1.6. To calculate the root mean squared error, use the function'root_mean_squared_error'.\n",
      "  warnings.warn(\n"
     ]
    }
   ],
   "source": [
    "# split the data\n",
    "X_train, X_test, y_train, y_test = train_test_split(isomap_features, target, test_size=0.2, random_state=42)\n",
    "\n",
    "# Gradient Boosting Regression\n",
    "gbr = GradientBoostingRegressor(n_estimators=100, learning_rate=0.1, max_depth=3, random_state=42)\n",
    "gbr.fit(X_train, y_train)\n",
    "y_pred_gbr = gbr.predict(X_test)\n",
    "print(\"GBR RMSE:\", mean_squared_error(y_test, y_pred_gbr, squared=False))\n",
    "print(\"GBR R^2:\", r2_score(y_test, y_pred_gbr))"
   ]
  },
  {
   "cell_type": "markdown",
   "metadata": {},
   "source": [
    "#### RF"
   ]
  },
  {
   "cell_type": "code",
   "execution_count": 31,
   "metadata": {},
   "outputs": [
    {
     "name": "stdout",
     "output_type": "stream",
     "text": [
      "RF RMSE: 208.3990472276716\n",
      "RF R^2: 0.9879990894508496\n"
     ]
    },
    {
     "name": "stderr",
     "output_type": "stream",
     "text": [
      "/Library/Frameworks/Python.framework/Versions/3.10/lib/python3.10/site-packages/sklearn/metrics/_regression.py:483: FutureWarning: 'squared' is deprecated in version 1.4 and will be removed in 1.6. To calculate the root mean squared error, use the function'root_mean_squared_error'.\n",
      "  warnings.warn(\n"
     ]
    }
   ],
   "source": [
    "# Random Forest Regression\n",
    "rf = RandomForestRegressor(n_estimators=100, max_depth=5, random_state=42)\n",
    "rf.fit(X_train, y_train)\n",
    "y_pred_rf = rf.predict(X_test)\n",
    "print(\"RF RMSE:\", mean_squared_error(y_test, y_pred_rf, squared=False))\n",
    "print(\"RF R^2:\", r2_score(y_test, y_pred_rf))"
   ]
  },
  {
   "cell_type": "markdown",
   "metadata": {},
   "source": [
    "### USING UMAP"
   ]
  },
  {
   "cell_type": "markdown",
   "metadata": {},
   "source": [
    "#### GBR"
   ]
  },
  {
   "cell_type": "code",
   "execution_count": 32,
   "metadata": {},
   "outputs": [
    {
     "name": "stdout",
     "output_type": "stream",
     "text": [
      "GBR RMSE: 302.5796682444808\n",
      "GBR R^2: 0.9747010658157028\n"
     ]
    },
    {
     "name": "stderr",
     "output_type": "stream",
     "text": [
      "/Library/Frameworks/Python.framework/Versions/3.10/lib/python3.10/site-packages/sklearn/metrics/_regression.py:483: FutureWarning: 'squared' is deprecated in version 1.4 and will be removed in 1.6. To calculate the root mean squared error, use the function'root_mean_squared_error'.\n",
      "  warnings.warn(\n"
     ]
    }
   ],
   "source": [
    "# split the data\n",
    "X_train, X_test, y_train, y_test = train_test_split(umap_features, target, test_size=0.2, random_state=42)\n",
    "\n",
    "# Gradient Boosting Regression\n",
    "gbr = GradientBoostingRegressor(n_estimators=100, learning_rate=0.1, max_depth=3, random_state=42)\n",
    "gbr.fit(X_train, y_train)\n",
    "y_pred_gbr = gbr.predict(X_test)\n",
    "print(\"GBR RMSE:\", mean_squared_error(y_test, y_pred_gbr, squared=False))\n",
    "print(\"GBR R^2:\", r2_score(y_test, y_pred_gbr))"
   ]
  },
  {
   "cell_type": "markdown",
   "metadata": {},
   "source": [
    "#### RF"
   ]
  },
  {
   "cell_type": "code",
   "execution_count": 33,
   "metadata": {},
   "outputs": [
    {
     "name": "stdout",
     "output_type": "stream",
     "text": [
      "RF RMSE: 444.7434760039404\n",
      "RF R^2: 0.9453434880428232\n"
     ]
    },
    {
     "name": "stderr",
     "output_type": "stream",
     "text": [
      "/Library/Frameworks/Python.framework/Versions/3.10/lib/python3.10/site-packages/sklearn/metrics/_regression.py:483: FutureWarning: 'squared' is deprecated in version 1.4 and will be removed in 1.6. To calculate the root mean squared error, use the function'root_mean_squared_error'.\n",
      "  warnings.warn(\n"
     ]
    }
   ],
   "source": [
    "# Random Forest Regression\n",
    "rf = RandomForestRegressor(n_estimators=100, max_depth=5, random_state=42)\n",
    "rf.fit(X_train, y_train)\n",
    "y_pred_rf = rf.predict(X_test)\n",
    "print(\"RF RMSE:\", mean_squared_error(y_test, y_pred_rf, squared=False))\n",
    "print(\"RF R^2:\", r2_score(y_test, y_pred_rf))"
   ]
  },
  {
   "cell_type": "markdown",
   "metadata": {},
   "source": [
    "## Cross Validation with GridSearch"
   ]
  },
  {
   "cell_type": "code",
   "execution_count": 34,
   "metadata": {},
   "outputs": [],
   "source": [
    "all_best_params = {}\n",
    "all_scores = {}"
   ]
  },
  {
   "cell_type": "markdown",
   "metadata": {},
   "source": [
    "#### FOR GBR"
   ]
  },
  {
   "cell_type": "markdown",
   "metadata": {},
   "source": [
    "UMAP"
   ]
  },
  {
   "cell_type": "code",
   "execution_count": 35,
   "metadata": {},
   "outputs": [],
   "source": [
    "def umap_gbr_gridsearch():\n",
    "    global all_best_params, all_scores\n",
    "    X_train, X_test, y_train, y_test = train_test_split(umap_features, target, test_size=0.2, random_state=42)\n",
    "\n",
    "    gbr = GradientBoostingRegressor()\n",
    "\n",
    "    # set up a param grid\n",
    "    param_grid = {\n",
    "        'n_estimators': [50, 100, 200, 300],\n",
    "        'learning_rate': [0.01, 0.1, 0.2, 1],\n",
    "        'max_depth': [3, 5, 7],\n",
    "        'min_samples_split': [2, 5, 10],\n",
    "        'min_samples_leaf': [1, 2, 4]\n",
    "    }\n",
    "\n",
    "    grid_search = GridSearchCV(\n",
    "        estimator=gbr, \n",
    "        param_grid=param_grid, \n",
    "        cv=5, \n",
    "        scoring=['neg_root_mean_squared_error', 'neg_mean_absolute_error', 'r2'], \n",
    "        refit = 'neg_root_mean_squared_error',\n",
    "        n_jobs=-1, \n",
    "        return_train_score=True, \n",
    "        verbose=0\n",
    "    )\n",
    "\n",
    "    grid_search.fit(X_train, y_train)\n",
    "\n",
    "    # Get the best parameters and best score\n",
    "    print(\"Best Parameters:\", grid_search.best_params_)\n",
    "    print(\"Best Cross-Validation Score:\", -grid_search.best_score_)  # Convert to positive MSE\n",
    "\n",
    "    # Evaluate on test data\n",
    "    test_score = grid_search.score(X_test, y_test)\n",
    "    print(\"Test Set Score (Negative MSE):\", test_score)\n",
    "\n",
    "    all_best_params['umap_gbr'] = grid_search.best_params_\n",
    "    all_scores['umap_gbr'] = grid_search.cv_results_"
   ]
  },
  {
   "cell_type": "markdown",
   "metadata": {},
   "source": [
    "isomap"
   ]
  },
  {
   "cell_type": "code",
   "execution_count": 36,
   "metadata": {},
   "outputs": [],
   "source": [
    "def isomap_gbr_gridsearch():\n",
    "    global all_best_params, all_scores\n",
    "    X_train, X_test, y_train, y_test = train_test_split(isomap_features, target, test_size=0.2, random_state=42)\n",
    "\n",
    "    gbr = GradientBoostingRegressor()\n",
    "\n",
    "    # set up a param grid\n",
    "    param_grid = {\n",
    "        'n_estimators': [50, 100, 200, 300],\n",
    "        'learning_rate': [0.01, 0.1, 0.2, 1],\n",
    "        'max_depth': [3, 5, 7],\n",
    "        'min_samples_split': [2, 5, 10],\n",
    "        'min_samples_leaf': [1, 2, 4]\n",
    "    }\n",
    "\n",
    "    grid_search = GridSearchCV(\n",
    "        estimator=gbr, \n",
    "        param_grid=param_grid, \n",
    "        cv=5, \n",
    "        scoring=['neg_root_mean_squared_error', 'neg_mean_absolute_error', 'r2'], \n",
    "        refit = 'neg_root_mean_squared_error',\n",
    "        n_jobs=-1, \n",
    "        return_train_score=True, \n",
    "        verbose=0\n",
    "    )\n",
    "\n",
    "    grid_search.fit(X_train, y_train)\n",
    "\n",
    "    # Get the best parameters and best score\n",
    "    print(\"Best Parameters:\", grid_search.best_params_)\n",
    "    print(\"Best Cross-Validation Score:\", -grid_search.best_score_)  # Convert to positive MSE\n",
    "\n",
    "    # Evaluate on test data\n",
    "    test_score = grid_search.score(X_test, y_test)\n",
    "    print(\"Test Set Score (Negative MSE):\", test_score)\n",
    "\n",
    "    all_best_params['isomap_gbr'] = grid_search.best_params_\n",
    "    all_scores['isomap_gbr'] = grid_search.cv_results_"
   ]
  },
  {
   "cell_type": "markdown",
   "metadata": {},
   "source": [
    "### FOR RF"
   ]
  },
  {
   "cell_type": "markdown",
   "metadata": {},
   "source": [
    "umap"
   ]
  },
  {
   "cell_type": "code",
   "execution_count": 37,
   "metadata": {},
   "outputs": [],
   "source": [
    "def umap_rf_gridsearch():\n",
    "    global all_best_params, all_scores\n",
    "    X_train, X_test, y_train, y_test = train_test_split(umap_features, target, test_size=0.2, random_state=42)\n",
    "\n",
    "    rf = RandomForestRegressor()\n",
    "\n",
    "    # set up a param grid\n",
    "    param_grid = {\n",
    "        'n_estimators': [100, 200, 500],           # Number of trees in the forest\n",
    "        'max_depth': [None, 10, 20, 30, 50],       # Maximum depth of each tree (None allows full depth)\n",
    "        'min_samples_split': [2, 5, 10],           # Minimum samples required to split a node\n",
    "        'min_samples_leaf': [1, 2, 4],             # Minimum samples required at a leaf node\n",
    "        'max_features': [None, 'sqrt', 'log2', 0.5],  # Number of features considered at each split\n",
    "        'bootstrap': [True, False]                 # Whether bootstrap samples are used\n",
    "    }\n",
    "\n",
    "    grid_search = GridSearchCV(\n",
    "        estimator=rf, \n",
    "        param_grid=param_grid, \n",
    "        cv=5, \n",
    "        scoring=['neg_root_mean_squared_error', 'neg_mean_absolute_error', 'r2'], \n",
    "        refit = 'neg_root_mean_squared_error',\n",
    "        n_jobs=-1, \n",
    "        return_train_score=True, \n",
    "        verbose=0\n",
    "    )\n",
    "\n",
    "    grid_search.fit(X_train, y_train)\n",
    "\n",
    "    # Get the best parameters and best score\n",
    "    print(\"Best Parameters:\", grid_search.best_params_)\n",
    "    print(\"Best Cross-Validation Score:\", -grid_search.best_score_)  # Convert to positive MSE\n",
    "\n",
    "    # Evaluate on test data\n",
    "    test_score = grid_search.score(X_test, y_test)\n",
    "    print(\"Test Set Score (Negative MSE):\", test_score)\n",
    "\n",
    "    all_best_params['umap_rf'] = grid_search.best_params_\n",
    "    all_scores['umap_rf'] = grid_search.cv_results_"
   ]
  },
  {
   "cell_type": "markdown",
   "metadata": {},
   "source": [
    "isomap"
   ]
  },
  {
   "cell_type": "code",
   "execution_count": 38,
   "metadata": {},
   "outputs": [],
   "source": [
    "def isomap_rf_gridsearch():\n",
    "    global all_best_params, all_scores\n",
    "    X_train, X_test, y_train, y_test = train_test_split(isomap_features, target, test_size=0.2, random_state=42)\n",
    "\n",
    "    rf = RandomForestRegressor()\n",
    "\n",
    "    # set up a param grid\n",
    "    param_grid = {\n",
    "        'n_estimators': [100, 200, 500],           # Number of trees in the forest\n",
    "        'max_depth': [None, 10, 20, 30, 50],       # Maximum depth of each tree (None allows full depth)\n",
    "        'min_samples_split': [2, 5, 10],           # Minimum samples required to split a node\n",
    "        'min_samples_leaf': [1, 2, 4],             # Minimum samples required at a leaf node\n",
    "        'max_features': [None, 'sqrt', 'log2', 0.5],  # Number of features considered at each split\n",
    "        'bootstrap': [True, False]                 # Whether bootstrap samples are used\n",
    "    }\n",
    "\n",
    "    grid_search = GridSearchCV(\n",
    "        estimator=rf, \n",
    "        param_grid=param_grid, \n",
    "        cv=5, \n",
    "        scoring=['neg_root_mean_squared_error', 'neg_mean_absolute_error', 'r2'], \n",
    "        refit = 'neg_root_mean_squared_error',\n",
    "        n_jobs=-1, \n",
    "        return_train_score=True, \n",
    "        verbose=0\n",
    "    )\n",
    "\n",
    "    grid_search.fit(X_train, y_train)\n",
    "\n",
    "    # Get the best parameters and best score\n",
    "    print(\"Best Parameters:\", grid_search.best_params_)\n",
    "    print(\"Best Cross-Validation Score:\", -grid_search.best_score_)  # Convert to positive MSE\n",
    "\n",
    "    # Evaluate on test data\n",
    "    test_score = grid_search.score(X_test, y_test)\n",
    "    print(\"Test Set Score (Negative MSE):\", test_score)\n",
    "\n",
    "    all_best_params['isomap_rf'] = grid_search.best_params_\n",
    "    all_scores['isomap_rf'] = grid_search.cv_results_"
   ]
  },
  {
   "cell_type": "markdown",
   "metadata": {},
   "source": [
    "main code to run gridsearch:\n",
    "\n",
    "!! <b>DO NOT RERUN</b> (it takes a while lol)"
   ]
  },
  {
   "cell_type": "code",
   "execution_count": 39,
   "metadata": {},
   "outputs": [
    {
     "name": "stdout",
     "output_type": "stream",
     "text": [
      "Do not rerun the script below this, the best parameters have been saved to all_best_params and all scores saved to all_scores\n"
     ]
    }
   ],
   "source": [
    "all_best_params = {}\n",
    "all_scores = {}\n",
    "def main():\n",
    "    print(\"--------------------------- GBR ---------------------------\")\n",
    "    print(\"--------------------- ISOMAP FEATURES ---------------------\")\n",
    "    isomap_gbr_gridsearch()\n",
    "    print(\"---------------------- UMAP FEATURES ----------------------\")\n",
    "    umap_gbr_gridsearch()\n",
    "    print(\"--------------------------- RF ---------------------------\")\n",
    "    print(\"--------------------- ISOMAP FEATURES ---------------------\")\n",
    "    isomap_rf_gridsearch()\n",
    "    print(\"---------------------- UMAP FEATURES ----------------------\")\n",
    "\n",
    "    umap_rf_gridsearch()\n",
    "print(\"Do not rerun the script below this, the best parameters have been saved to all_best_params and all scores saved to all_scores\")"
   ]
  },
  {
   "cell_type": "code",
   "execution_count": 40,
   "metadata": {},
   "outputs": [
    {
     "name": "stdout",
     "output_type": "stream",
     "text": [
      "--------------------------- GBR ---------------------------\n",
      "--------------------- ISOMAP FEATURES ---------------------\n",
      "Best Parameters: {'learning_rate': 0.1, 'max_depth': 5, 'min_samples_leaf': 1, 'min_samples_split': 5, 'n_estimators': 200}\n",
      "Best Cross-Validation Score: 202.2130478965544\n",
      "Test Set Score (Negative MSE): -201.92278554178216\n",
      "---------------------- UMAP FEATURES ----------------------\n",
      "Best Parameters: {'learning_rate': 0.2, 'max_depth': 5, 'min_samples_leaf': 2, 'min_samples_split': 10, 'n_estimators': 200}\n",
      "Best Cross-Validation Score: 330.3571888058325\n",
      "Test Set Score (Negative MSE): -327.4819119016414\n",
      "--------------------------- RF ---------------------------\n",
      "--------------------- ISOMAP FEATURES ---------------------\n",
      "Best Parameters: {'bootstrap': True, 'max_depth': 30, 'max_features': None, 'min_samples_leaf': 1, 'min_samples_split': 2, 'n_estimators': 100}\n",
      "Best Cross-Validation Score: 203.3708791149073\n",
      "Test Set Score (Negative MSE): -190.6331686683556\n",
      "---------------------- UMAP FEATURES ----------------------\n",
      "Best Parameters: {'bootstrap': True, 'max_depth': 30, 'max_features': None, 'min_samples_leaf': 1, 'min_samples_split': 2, 'n_estimators': 100}\n",
      "Best Cross-Validation Score: 328.71551495848286\n",
      "Test Set Score (Negative MSE): -316.2247161275416\n"
     ]
    }
   ],
   "source": [
    "main() # DONT RERUN"
   ]
  },
  {
   "cell_type": "markdown",
   "metadata": {},
   "source": [
    "GBR with ISOMAP features seems to perform the best so lets further tune the hyperparameters"
   ]
  },
  {
   "cell_type": "code",
   "execution_count": 41,
   "metadata": {},
   "outputs": [
    {
     "name": "stdout",
     "output_type": "stream",
     "text": [
      "X_train: (1150, 10), y_train: (1150,)\n",
      "First row of X_train: [-0.72650094 -3.00496815 -0.4447857   0.26570626  0.31698251  0.48099701\n",
      " -0.37597215  0.03725707  0.00396949 -0.21224083]\n",
      "Fitting 5 folds for each of 432 candidates, totalling 2160 fits\n",
      "Best Parameters: {'learning_rate': 0.1, 'max_depth': 4, 'min_samples_leaf': 1, 'min_samples_split': 15, 'n_estimators': 300}\n",
      "Best Cross-Validation Score: 204.27469815132827\n",
      "Test Set Score (Negative MSE): -196.49734427416112\n"
     ]
    }
   ],
   "source": [
    "param_grid = {\n",
    "    'learning_rate': [0.1, 0.15, 0.2, 0.25, 0.3, 0.5],\n",
    "    'max_depth': [2, 3, 4],\n",
    "    'n_estimators': [50, 100, 200, 300],\n",
    "    'min_samples_split': [5, 10, 15],\n",
    "    'min_samples_leaf': [1, 2]\n",
    "}\n",
    "\n",
    "X_train, X_test, y_train, y_test = train_test_split(isomap_features, target, test_size=0.2, random_state=42)\n",
    "print(f\"X_train: {X_train.shape}, y_train: {y_train.shape}\")\n",
    "print(f\"First row of X_train: {X_train[0]}\")\n",
    "gbr = GradientBoostingRegressor()\n",
    "\n",
    "grid_search = GridSearchCV(\n",
    "    estimator=gbr, \n",
    "    param_grid=param_grid, \n",
    "    cv=5, \n",
    "    scoring=['neg_root_mean_squared_error', 'neg_mean_absolute_error', 'r2'], \n",
    "    refit = 'neg_root_mean_squared_error',\n",
    "    n_jobs=-1, \n",
    "    return_train_score=True, \n",
    "    verbose=1\n",
    ")\n",
    "\n",
    "grid_search.fit(X_train, y_train)\n",
    "\n",
    "# Get the best parameters and best score\n",
    "print(\"Best Parameters:\", grid_search.best_params_)\n",
    "print(\"Best Cross-Validation Score:\", -grid_search.best_score_)  # Convert to positive MSE\n",
    "\n",
    "# Evaluate on test data\n",
    "test_score = grid_search.score(X_test, y_test)\n",
    "print(\"Test Set Score (Negative MSE):\", test_score)\n"
   ]
  },
  {
   "cell_type": "markdown",
   "metadata": {},
   "source": [
    "Add early stopping"
   ]
  },
  {
   "cell_type": "code",
   "execution_count": 42,
   "metadata": {},
   "outputs": [
    {
     "name": "stdout",
     "output_type": "stream",
     "text": [
      "Test Set Mean Squared Error (MSE): 39147.08016881495\n",
      "R² Score: 0.9891826192638047\n"
     ]
    }
   ],
   "source": [
    "gbr = GradientBoostingRegressor(\n",
    "    learning_rate=0.1,        # Chosen learning rate\n",
    "    max_depth=2,               # Chosen depth from best results\n",
    "    n_estimators=1000,         # Start with a high number of estimators\n",
    "    validation_fraction=0.1,   # 10% of training data for validation\n",
    "    n_iter_no_change=10,       # Stop if no improvement for 10 rounds\n",
    "    tol=0.001,                  # Minimum change to qualify as an improvement\n",
    "    random_state=42            # Ensure reproducibility\n",
    ")\n",
    "\n",
    "gbr.fit(X_train, y_train)\n",
    "\n",
    "y_pred = gbr.predict(X_test)\n",
    "test_mse = mean_squared_error(y_test, y_pred)\n",
    "r2 = r2_score(y_test, y_pred)\n",
    "print(\"Test Set Mean Squared Error (MSE):\", test_mse)\n",
    "print(\"R² Score:\", r2)"
   ]
  },
  {
   "cell_type": "code",
   "execution_count": 43,
   "metadata": {},
   "outputs": [
    {
     "name": "stdout",
     "output_type": "stream",
     "text": [
      "Number of boosting stages used: 68\n"
     ]
    }
   ],
   "source": [
    "print(\"Number of boosting stages used:\", gbr.n_estimators_)"
   ]
  },
  {
   "cell_type": "code",
   "execution_count": 44,
   "metadata": {},
   "outputs": [
    {
     "data": {
      "image/png": "[encoded data removed]",
      "text/plain": [
       "<Figure size 640x480 with 1 Axes>"
      ]
     },
     "metadata": {},
     "output_type": "display_data"
    }
   ],
   "source": [
    "train_scores = []\n",
    "val_scores = []\n",
    "\n",
    "for y_train_pred, y_val_pred in zip(gbr.staged_predict(X_train), gbr.staged_predict(X_test)):\n",
    "    train_scores.append(mean_squared_error(y_train, y_train_pred))\n",
    "    val_scores.append(mean_squared_error(y_test, y_val_pred))\n",
    "\n",
    "plt.plot(train_scores, label='Training MSE')\n",
    "plt.plot(val_scores, label='Validation MSE')\n",
    "plt.xlabel('Number of Trees')\n",
    "plt.ylabel('Mean Squared Error')\n",
    "plt.legend()\n",
    "plt.show()"
   ]
  },
  {
   "cell_type": "code",
   "execution_count": 45,
   "metadata": {},
   "outputs": [
    {
     "data": {
      "image/png": "[encoded data removed]",
      "text/plain": [
       "<Figure size 640x480 with 1 Axes>"
      ]
     },
     "metadata": {},
     "output_type": "display_data"
    }
   ],
   "source": [
    "feature_importance = gbr.feature_importances_\n",
    "plt.bar(range(len(feature_importance)), feature_importance)\n",
    "plt.xlabel('Feature Index')\n",
    "plt.ylabel('Importance Score')\n",
    "plt.title('Feature Importance for GBR Model')\n",
    "plt.show()"
   ]
  },
  {
   "cell_type": "markdown",
   "metadata": {},
   "source": [
    "### Conclusion of early stopping\n",
    "\n",
    "not good for model \n",
    "dont use early stopping"
   ]
  },
  {
   "cell_type": "markdown",
   "metadata": {},
   "source": [
    "### Best model and parameters\n",
    "\n",
    "GBR with ISOMAP feature\n",
    "\n",
    "Best Parameters: {'learning_rate': 0.2, 'max_depth': 3, 'min_samples_leaf': 1, 'min_samples_split': 10, 'n_estimators': 100}\n",
    "\n",
    "Best Cross-Validation Score: 300.40086845016674\n",
    "\n",
    "Test Set Score (Negative MSE): -352.8877389188238"
   ]
  },
  {
   "cell_type": "code",
   "execution_count": 46,
   "metadata": {},
   "outputs": [
    {
     "data": {
      "text/html": [
       "<div>\n",
       "<style scoped>\n",
       "    .dataframe tbody tr th:only-of-type {\n",
       "        vertical-align: middle;\n",
       "    }\n",
       "\n",
       "    .dataframe tbody tr th {\n",
       "        vertical-align: top;\n",
       "    }\n",
       "\n",
       "    .dataframe thead th {\n",
       "        text-align: right;\n",
       "    }\n",
       "</style>\n",
       "<table border=\"1\" class=\"dataframe\">\n",
       "  <thead>\n",
       "    <tr style=\"text-align: right;\">\n",
       "      <th></th>\n",
       "      <th>Open</th>\n",
       "      <th>High</th>\n",
       "      <th>Low</th>\n",
       "      <th>Volume</th>\n",
       "      <th>Quote Asset Volume</th>\n",
       "      <th>Number of Trades</th>\n",
       "      <th>Taker Buy Base Asset Volume</th>\n",
       "      <th>Taker Buy Quote Asset Volume</th>\n",
       "      <th>Ignore</th>\n",
       "    </tr>\n",
       "  </thead>\n",
       "  <tbody>\n",
       "    <tr>\n",
       "      <th>0</th>\n",
       "      <td>61001.53</td>\n",
       "      <td>61040.00</td>\n",
       "      <td>60363.81</td>\n",
       "      <td>842.67064</td>\n",
       "      <td>5.110573e+07</td>\n",
       "      <td>92376</td>\n",
       "      <td>370.60610</td>\n",
       "      <td>2.246875e+07</td>\n",
       "      <td>0</td>\n",
       "    </tr>\n",
       "    <tr>\n",
       "      <th>1</th>\n",
       "      <td>60540.17</td>\n",
       "      <td>60696.48</td>\n",
       "      <td>60312.00</td>\n",
       "      <td>602.84658</td>\n",
       "      <td>3.647998e+07</td>\n",
       "      <td>115625</td>\n",
       "      <td>254.96717</td>\n",
       "      <td>1.542864e+07</td>\n",
       "      <td>0</td>\n",
       "    </tr>\n",
       "    <tr>\n",
       "      <th>2</th>\n",
       "      <td>60419.99</td>\n",
       "      <td>60448.00</td>\n",
       "      <td>59618.26</td>\n",
       "      <td>1509.20662</td>\n",
       "      <td>9.058118e+07</td>\n",
       "      <td>206792</td>\n",
       "      <td>626.16312</td>\n",
       "      <td>3.756810e+07</td>\n",
       "      <td>0</td>\n",
       "    </tr>\n",
       "    <tr>\n",
       "      <th>3</th>\n",
       "      <td>59967.98</td>\n",
       "      <td>60210.27</td>\n",
       "      <td>59715.42</td>\n",
       "      <td>1018.71827</td>\n",
       "      <td>6.110518e+07</td>\n",
       "      <td>117681</td>\n",
       "      <td>554.74599</td>\n",
       "      <td>3.328095e+07</td>\n",
       "      <td>0</td>\n",
       "    </tr>\n",
       "    <tr>\n",
       "      <th>4</th>\n",
       "      <td>60184.15</td>\n",
       "      <td>60342.85</td>\n",
       "      <td>59980.00</td>\n",
       "      <td>646.34324</td>\n",
       "      <td>3.886402e+07</td>\n",
       "      <td>90615</td>\n",
       "      <td>273.99492</td>\n",
       "      <td>1.647614e+07</td>\n",
       "      <td>0</td>\n",
       "    </tr>\n",
       "    <tr>\n",
       "      <th>...</th>\n",
       "      <td>...</td>\n",
       "      <td>...</td>\n",
       "      <td>...</td>\n",
       "      <td>...</td>\n",
       "      <td>...</td>\n",
       "      <td>...</td>\n",
       "      <td>...</td>\n",
       "      <td>...</td>\n",
       "      <td>...</td>\n",
       "    </tr>\n",
       "    <tr>\n",
       "      <th>1433</th>\n",
       "      <td>67123.80</td>\n",
       "      <td>67280.00</td>\n",
       "      <td>66925.06</td>\n",
       "      <td>642.28177</td>\n",
       "      <td>4.310064e+07</td>\n",
       "      <td>133320</td>\n",
       "      <td>312.69286</td>\n",
       "      <td>2.098556e+07</td>\n",
       "      <td>0</td>\n",
       "    </tr>\n",
       "    <tr>\n",
       "      <th>1434</th>\n",
       "      <td>67280.00</td>\n",
       "      <td>67680.00</td>\n",
       "      <td>67221.58</td>\n",
       "      <td>973.82782</td>\n",
       "      <td>6.571412e+07</td>\n",
       "      <td>168081</td>\n",
       "      <td>540.26358</td>\n",
       "      <td>3.645023e+07</td>\n",
       "      <td>0</td>\n",
       "    </tr>\n",
       "    <tr>\n",
       "      <th>1435</th>\n",
       "      <td>67590.67</td>\n",
       "      <td>67590.67</td>\n",
       "      <td>67213.93</td>\n",
       "      <td>847.69876</td>\n",
       "      <td>5.710506e+07</td>\n",
       "      <td>115255</td>\n",
       "      <td>443.29642</td>\n",
       "      <td>2.985796e+07</td>\n",
       "      <td>0</td>\n",
       "    </tr>\n",
       "    <tr>\n",
       "      <th>1436</th>\n",
       "      <td>67333.34</td>\n",
       "      <td>67454.00</td>\n",
       "      <td>67122.68</td>\n",
       "      <td>830.09205</td>\n",
       "      <td>5.587618e+07</td>\n",
       "      <td>83608</td>\n",
       "      <td>473.22368</td>\n",
       "      <td>3.185506e+07</td>\n",
       "      <td>0</td>\n",
       "    </tr>\n",
       "    <tr>\n",
       "      <th>1437</th>\n",
       "      <td>67384.42</td>\n",
       "      <td>67526.00</td>\n",
       "      <td>67330.84</td>\n",
       "      <td>444.49273</td>\n",
       "      <td>2.997472e+07</td>\n",
       "      <td>51188</td>\n",
       "      <td>291.64305</td>\n",
       "      <td>1.966755e+07</td>\n",
       "      <td>0</td>\n",
       "    </tr>\n",
       "  </tbody>\n",
       "</table>\n",
       "<p>1438 rows × 9 columns</p>\n",
       "</div>"
      ],
      "text/plain": [
       "          Open      High       Low      Volume  Quote Asset Volume  \\\n",
       "0     61001.53  61040.00  60363.81   842.67064        5.110573e+07   \n",
       "1     60540.17  60696.48  60312.00   602.84658        3.647998e+07   \n",
       "2     60419.99  60448.00  59618.26  1509.20662        9.058118e+07   \n",
       "3     59967.98  60210.27  59715.42  1018.71827        6.110518e+07   \n",
       "4     60184.15  60342.85  59980.00   646.34324        3.886402e+07   \n",
       "...        ...       ...       ...         ...                 ...   \n",
       "1433  67123.80  67280.00  66925.06   642.28177        4.310064e+07   \n",
       "1434  67280.00  67680.00  67221.58   973.82782        6.571412e+07   \n",
       "1435  67590.67  67590.67  67213.93   847.69876        5.710506e+07   \n",
       "1436  67333.34  67454.00  67122.68   830.09205        5.587618e+07   \n",
       "1437  67384.42  67526.00  67330.84   444.49273        2.997472e+07   \n",
       "\n",
       "      Number of Trades  Taker Buy Base Asset Volume  \\\n",
       "0                92376                    370.60610   \n",
       "1               115625                    254.96717   \n",
       "2               206792                    626.16312   \n",
       "3               117681                    554.74599   \n",
       "4                90615                    273.99492   \n",
       "...                ...                          ...   \n",
       "1433            133320                    312.69286   \n",
       "1434            168081                    540.26358   \n",
       "1435            115255                    443.29642   \n",
       "1436             83608                    473.22368   \n",
       "1437             51188                    291.64305   \n",
       "\n",
       "      Taker Buy Quote Asset Volume  Ignore  \n",
       "0                     2.246875e+07       0  \n",
       "1                     1.542864e+07       0  \n",
       "2                     3.756810e+07       0  \n",
       "3                     3.328095e+07       0  \n",
       "4                     1.647614e+07       0  \n",
       "...                            ...     ...  \n",
       "1433                  2.098556e+07       0  \n",
       "1434                  3.645023e+07       0  \n",
       "1435                  2.985796e+07       0  \n",
       "1436                  3.185506e+07       0  \n",
       "1437                  1.966755e+07       0  \n",
       "\n",
       "[1438 rows x 9 columns]"
      ]
     },
     "execution_count": 46,
     "metadata": {},
     "output_type": "execute_result"
    }
   ],
   "source": [
    "features"
   ]
  },
  {
   "cell_type": "code",
   "execution_count": null,
   "metadata": {},
   "outputs": [],
   "source": []
  },
  {
   "cell_type": "code",
   "execution_count": null,
   "metadata": {},
   "outputs": [],
   "source": []
  }
 ],
 "metadata": {
  "kernelspec": {
   "display_name": "Python 3",
   "language": "python",
   "name": "python3"
  },
  "language_info": {
   "codemirror_mode": {
    "name": "ipython",
    "version": 3
   },
   "file_extension": ".py",
   "mimetype": "text/x-python",
   "name": "python",
   "nbconvert_exporter": "python",
   "pygments_lexer": "ipython3",
   "version": "3.10.0"
  }
 },
 "nbformat": 4,
 "nbformat_minor": 2
}
