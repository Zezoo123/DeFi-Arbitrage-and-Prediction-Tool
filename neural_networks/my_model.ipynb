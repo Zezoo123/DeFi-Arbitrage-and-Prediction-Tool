{
 "cells": [
  {
   "cell_type": "markdown",
   "metadata": {},
   "source": [
    "## Import libraries"
   ]
  },
  {
   "cell_type": "code",
   "execution_count": 19,
   "metadata": {},
   "outputs": [],
   "source": [
    "import pandas as pd\n",
    "from sklearn.preprocessing import StandardScaler\n",
    "from sklearn.manifold import Isomap\n",
    "import umap\n",
    "from sklearn.ensemble import GradientBoostingRegressor, RandomForestRegressor\n",
    "from sklearn.model_selection import train_test_split\n",
    "from sklearn.metrics import mean_squared_error, r2_score"
   ]
  },
  {
   "cell_type": "markdown",
   "metadata": {},
   "source": [
    "## Load the data"
   ]
  },
  {
   "cell_type": "code",
   "execution_count": 14,
   "metadata": {},
   "outputs": [
    {
     "data": {
      "text/html": [
       "<div>\n",
       "<style scoped>\n",
       "    .dataframe tbody tr th:only-of-type {\n",
       "        vertical-align: middle;\n",
       "    }\n",
       "\n",
       "    .dataframe tbody tr th {\n",
       "        vertical-align: top;\n",
       "    }\n",
       "\n",
       "    .dataframe thead th {\n",
       "        text-align: right;\n",
       "    }\n",
       "</style>\n",
       "<table border=\"1\" class=\"dataframe\">\n",
       "  <thead>\n",
       "    <tr style=\"text-align: right;\">\n",
       "      <th></th>\n",
       "      <th>Open Time</th>\n",
       "      <th>Open</th>\n",
       "      <th>High</th>\n",
       "      <th>Low</th>\n",
       "      <th>Close</th>\n",
       "      <th>Volume</th>\n",
       "      <th>Close Time</th>\n",
       "      <th>Quote Asset Volume</th>\n",
       "      <th>Number of Trades</th>\n",
       "      <th>Taker Buy Base Asset Volume</th>\n",
       "      <th>Taker Buy Quote Asset Volume</th>\n",
       "      <th>Ignore</th>\n",
       "    </tr>\n",
       "  </thead>\n",
       "  <tbody>\n",
       "    <tr>\n",
       "      <th>0</th>\n",
       "      <td>2024-09-17 19:00:00</td>\n",
       "      <td>60540.17</td>\n",
       "      <td>60696.48</td>\n",
       "      <td>59618.26</td>\n",
       "      <td>59967.99</td>\n",
       "      <td>2112.05320</td>\n",
       "      <td>2024-09-17 19:59:59.999</td>\n",
       "      <td>1.270612e+08</td>\n",
       "      <td>322417</td>\n",
       "      <td>881.13029</td>\n",
       "      <td>5.299674e+07</td>\n",
       "      <td>0</td>\n",
       "    </tr>\n",
       "    <tr>\n",
       "      <th>1</th>\n",
       "      <td>2024-09-17 20:00:00</td>\n",
       "      <td>59967.98</td>\n",
       "      <td>60342.85</td>\n",
       "      <td>59715.42</td>\n",
       "      <td>60120.00</td>\n",
       "      <td>1665.06151</td>\n",
       "      <td>2024-09-17 20:59:59.999</td>\n",
       "      <td>9.996920e+07</td>\n",
       "      <td>208296</td>\n",
       "      <td>828.74091</td>\n",
       "      <td>4.975709e+07</td>\n",
       "      <td>0</td>\n",
       "    </tr>\n",
       "    <tr>\n",
       "      <th>2</th>\n",
       "      <td>2024-09-17 21:00:00</td>\n",
       "      <td>60119.99</td>\n",
       "      <td>60424.25</td>\n",
       "      <td>60105.01</td>\n",
       "      <td>60334.07</td>\n",
       "      <td>662.68788</td>\n",
       "      <td>2024-09-17 21:59:59.999</td>\n",
       "      <td>3.997326e+07</td>\n",
       "      <td>85064</td>\n",
       "      <td>356.50218</td>\n",
       "      <td>2.150287e+07</td>\n",
       "      <td>0</td>\n",
       "    </tr>\n",
       "    <tr>\n",
       "      <th>3</th>\n",
       "      <td>2024-09-17 22:00:00</td>\n",
       "      <td>60334.07</td>\n",
       "      <td>60343.99</td>\n",
       "      <td>60122.50</td>\n",
       "      <td>60240.01</td>\n",
       "      <td>424.37655</td>\n",
       "      <td>2024-09-17 22:59:59.999</td>\n",
       "      <td>2.556103e+07</td>\n",
       "      <td>94677</td>\n",
       "      <td>173.20763</td>\n",
       "      <td>1.043171e+07</td>\n",
       "      <td>0</td>\n",
       "    </tr>\n",
       "    <tr>\n",
       "      <th>4</th>\n",
       "      <td>2024-09-17 23:00:00</td>\n",
       "      <td>60240.01</td>\n",
       "      <td>60324.00</td>\n",
       "      <td>60005.31</td>\n",
       "      <td>60313.99</td>\n",
       "      <td>489.52738</td>\n",
       "      <td>2024-09-17 23:59:59.999</td>\n",
       "      <td>2.945738e+07</td>\n",
       "      <td>73556</td>\n",
       "      <td>267.66050</td>\n",
       "      <td>1.610952e+07</td>\n",
       "      <td>0</td>\n",
       "    </tr>\n",
       "  </tbody>\n",
       "</table>\n",
       "</div>"
      ],
      "text/plain": [
       "             Open Time      Open      High       Low     Close      Volume  \\\n",
       "0  2024-09-17 19:00:00  60540.17  60696.48  59618.26  59967.99  2112.05320   \n",
       "1  2024-09-17 20:00:00  59967.98  60342.85  59715.42  60120.00  1665.06151   \n",
       "2  2024-09-17 21:00:00  60119.99  60424.25  60105.01  60334.07   662.68788   \n",
       "3  2024-09-17 22:00:00  60334.07  60343.99  60122.50  60240.01   424.37655   \n",
       "4  2024-09-17 23:00:00  60240.01  60324.00  60005.31  60313.99   489.52738   \n",
       "\n",
       "                Close Time  Quote Asset Volume  Number of Trades  \\\n",
       "0  2024-09-17 19:59:59.999        1.270612e+08            322417   \n",
       "1  2024-09-17 20:59:59.999        9.996920e+07            208296   \n",
       "2  2024-09-17 21:59:59.999        3.997326e+07             85064   \n",
       "3  2024-09-17 22:59:59.999        2.556103e+07             94677   \n",
       "4  2024-09-17 23:59:59.999        2.945738e+07             73556   \n",
       "\n",
       "   Taker Buy Base Asset Volume  Taker Buy Quote Asset Volume  Ignore  \n",
       "0                    881.13029                  5.299674e+07       0  \n",
       "1                    828.74091                  4.975709e+07       0  \n",
       "2                    356.50218                  2.150287e+07       0  \n",
       "3                    173.20763                  1.043171e+07       0  \n",
       "4                    267.66050                  1.610952e+07       0  "
      ]
     },
     "execution_count": 14,
     "metadata": {},
     "output_type": "execute_result"
    }
   ],
   "source": [
    "path_to_data_directory = '../data/'\n",
    "exchange = 'binance'\n",
    "coin = 'BTC'\n",
    "interval = '1h'\n",
    "data = pd.read_csv(path_to_data_directory + exchange + '/' + coin + '/' + interval + '.csv')\n",
    "data.head()"
   ]
  },
  {
   "cell_type": "markdown",
   "metadata": {},
   "source": [
    "## Preprocessing"
   ]
  },
  {
   "cell_type": "markdown",
   "metadata": {},
   "source": [
    "split the features and target value"
   ]
  },
  {
   "cell_type": "code",
   "execution_count": 15,
   "metadata": {},
   "outputs": [
    {
     "data": {
      "text/html": [
       "<div>\n",
       "<style scoped>\n",
       "    .dataframe tbody tr th:only-of-type {\n",
       "        vertical-align: middle;\n",
       "    }\n",
       "\n",
       "    .dataframe tbody tr th {\n",
       "        vertical-align: top;\n",
       "    }\n",
       "\n",
       "    .dataframe thead th {\n",
       "        text-align: right;\n",
       "    }\n",
       "</style>\n",
       "<table border=\"1\" class=\"dataframe\">\n",
       "  <thead>\n",
       "    <tr style=\"text-align: right;\">\n",
       "      <th></th>\n",
       "      <th>Open</th>\n",
       "      <th>High</th>\n",
       "      <th>Low</th>\n",
       "      <th>Volume</th>\n",
       "      <th>Quote Asset Volume</th>\n",
       "      <th>Number of Trades</th>\n",
       "      <th>Taker Buy Base Asset Volume</th>\n",
       "      <th>Taker Buy Quote Asset Volume</th>\n",
       "      <th>Ignore</th>\n",
       "    </tr>\n",
       "  </thead>\n",
       "  <tbody>\n",
       "    <tr>\n",
       "      <th>0</th>\n",
       "      <td>60540.17</td>\n",
       "      <td>60696.48</td>\n",
       "      <td>59618.26</td>\n",
       "      <td>2112.05320</td>\n",
       "      <td>1.270612e+08</td>\n",
       "      <td>322417</td>\n",
       "      <td>881.13029</td>\n",
       "      <td>5.299674e+07</td>\n",
       "      <td>0</td>\n",
       "    </tr>\n",
       "    <tr>\n",
       "      <th>1</th>\n",
       "      <td>59967.98</td>\n",
       "      <td>60342.85</td>\n",
       "      <td>59715.42</td>\n",
       "      <td>1665.06151</td>\n",
       "      <td>9.996920e+07</td>\n",
       "      <td>208296</td>\n",
       "      <td>828.74091</td>\n",
       "      <td>4.975709e+07</td>\n",
       "      <td>0</td>\n",
       "    </tr>\n",
       "    <tr>\n",
       "      <th>2</th>\n",
       "      <td>60119.99</td>\n",
       "      <td>60424.25</td>\n",
       "      <td>60105.01</td>\n",
       "      <td>662.68788</td>\n",
       "      <td>3.997326e+07</td>\n",
       "      <td>85064</td>\n",
       "      <td>356.50218</td>\n",
       "      <td>2.150287e+07</td>\n",
       "      <td>0</td>\n",
       "    </tr>\n",
       "    <tr>\n",
       "      <th>3</th>\n",
       "      <td>60334.07</td>\n",
       "      <td>60343.99</td>\n",
       "      <td>60122.50</td>\n",
       "      <td>424.37655</td>\n",
       "      <td>2.556103e+07</td>\n",
       "      <td>94677</td>\n",
       "      <td>173.20763</td>\n",
       "      <td>1.043171e+07</td>\n",
       "      <td>0</td>\n",
       "    </tr>\n",
       "    <tr>\n",
       "      <th>4</th>\n",
       "      <td>60240.01</td>\n",
       "      <td>60324.00</td>\n",
       "      <td>60005.31</td>\n",
       "      <td>489.52738</td>\n",
       "      <td>2.945738e+07</td>\n",
       "      <td>73556</td>\n",
       "      <td>267.66050</td>\n",
       "      <td>1.610952e+07</td>\n",
       "      <td>0</td>\n",
       "    </tr>\n",
       "  </tbody>\n",
       "</table>\n",
       "</div>"
      ],
      "text/plain": [
       "       Open      High       Low      Volume  Quote Asset Volume  \\\n",
       "0  60540.17  60696.48  59618.26  2112.05320        1.270612e+08   \n",
       "1  59967.98  60342.85  59715.42  1665.06151        9.996920e+07   \n",
       "2  60119.99  60424.25  60105.01   662.68788        3.997326e+07   \n",
       "3  60334.07  60343.99  60122.50   424.37655        2.556103e+07   \n",
       "4  60240.01  60324.00  60005.31   489.52738        2.945738e+07   \n",
       "\n",
       "   Number of Trades  Taker Buy Base Asset Volume  \\\n",
       "0            322417                    881.13029   \n",
       "1            208296                    828.74091   \n",
       "2             85064                    356.50218   \n",
       "3             94677                    173.20763   \n",
       "4             73556                    267.66050   \n",
       "\n",
       "   Taker Buy Quote Asset Volume  Ignore  \n",
       "0                  5.299674e+07       0  \n",
       "1                  4.975709e+07       0  \n",
       "2                  2.150287e+07       0  \n",
       "3                  1.043171e+07       0  \n",
       "4                  1.610952e+07       0  "
      ]
     },
     "execution_count": 15,
     "metadata": {},
     "output_type": "execute_result"
    }
   ],
   "source": [
    "features = data.drop(columns=['Close', 'Open Time', 'Close Time'])\n",
    "target = data['Close']\n",
    "\n",
    "features.head()"
   ]
  },
  {
   "cell_type": "markdown",
   "metadata": {},
   "source": [
    "scale the features"
   ]
  },
  {
   "cell_type": "code",
   "execution_count": 16,
   "metadata": {},
   "outputs": [],
   "source": [
    "scaler = StandardScaler()\n",
    "scaled_features = scaler.fit_transform(features)"
   ]
  },
  {
   "cell_type": "markdown",
   "metadata": {},
   "source": [
    "Dimensionality reduction using isomap and umap\n",
    "\n",
    "Adjust the n_components and n_neighbors parameters\n",
    "\n",
    "TODO:\n",
    "Use Cross Validation with GridSearch to select the best values"
   ]
  },
  {
   "cell_type": "code",
   "execution_count": 17,
   "metadata": {},
   "outputs": [],
   "source": [
    "# Isomap\n",
    "isomap_transformer = Isomap(n_components=10, n_neighbors=5) # adjust n_components and n_neighbors \n",
    "isomap_features = isomap_transformer.fit_transform(scaled_features)\n",
    "\n",
    "\n",
    "# Umap\n",
    "umap_transformer = umap.UMAP(n_components=10, n_neighbors=5, metric='euclidean')\n",
    "umap_features = umap_transformer.fit_transform(scaled_features)"
   ]
  },
  {
   "cell_type": "markdown",
   "metadata": {},
   "source": [
    "## Model Training with GBR and RF"
   ]
  },
  {
   "cell_type": "markdown",
   "metadata": {},
   "source": [
    "### USING ISOMAP"
   ]
  },
  {
   "cell_type": "code",
   "execution_count": 20,
   "metadata": {},
   "outputs": [
    {
     "name": "stdout",
     "output_type": "stream",
     "text": [
      "GBR RMSE: 345.1837922274646\n",
      "GBR R^2: 0.9609407782166599\n",
      "RF RMSE: 482.3944395933263\n",
      "RF R^2: 0.9237170672869859\n"
     ]
    },
    {
     "name": "stderr",
     "output_type": "stream",
     "text": [
      "/Library/Frameworks/Python.framework/Versions/3.10/lib/python3.10/site-packages/sklearn/metrics/_regression.py:483: FutureWarning: 'squared' is deprecated in version 1.4 and will be removed in 1.6. To calculate the root mean squared error, use the function'root_mean_squared_error'.\n",
      "  warnings.warn(\n",
      "/Library/Frameworks/Python.framework/Versions/3.10/lib/python3.10/site-packages/sklearn/metrics/_regression.py:483: FutureWarning: 'squared' is deprecated in version 1.4 and will be removed in 1.6. To calculate the root mean squared error, use the function'root_mean_squared_error'.\n",
      "  warnings.warn(\n"
     ]
    }
   ],
   "source": [
    "# split the data\n",
    "X_train, X_test, y_train, y_test = train_test_split(isomap_features, target, test_size=0.2, random_state=42)\n",
    "\n",
    "# Gradient Boosting Regression\n",
    "gbr = GradientBoostingRegressor(n_estimators=100, learning_rate=0.1, max_depth=3, random_state=42)\n",
    "gbr.fit(X_train, y_train)\n",
    "y_pred_gbr = gbr.predict(X_test)\n",
    "print(\"GBR RMSE:\", mean_squared_error(y_test, y_pred_gbr, squared=False))\n",
    "print(\"GBR R^2:\", r2_score(y_test, y_pred_gbr))\n",
    "\n",
    "# Random Forest Regression\n",
    "rf = RandomForestRegressor(n_estimators=100, max_depth=5, random_state=42)\n",
    "rf.fit(X_train, y_train)\n",
    "y_pred_rf = rf.predict(X_test)\n",
    "print(\"RF RMSE:\", mean_squared_error(y_test, y_pred_rf, squared=False))\n",
    "print(\"RF R^2:\", r2_score(y_test, y_pred_rf))"
   ]
  },
  {
   "cell_type": "markdown",
   "metadata": {},
   "source": [
    "### USING UMAP"
   ]
  },
  {
   "cell_type": "code",
   "execution_count": 21,
   "metadata": {},
   "outputs": [
    {
     "name": "stdout",
     "output_type": "stream",
     "text": [
      "GBR RMSE: 391.040335992028\n",
      "GBR R^2: 0.9498736699159006\n",
      "RF RMSE: 465.8948619776528\n",
      "RF R^2: 0.9288461118496464\n"
     ]
    },
    {
     "name": "stderr",
     "output_type": "stream",
     "text": [
      "/Library/Frameworks/Python.framework/Versions/3.10/lib/python3.10/site-packages/sklearn/metrics/_regression.py:483: FutureWarning: 'squared' is deprecated in version 1.4 and will be removed in 1.6. To calculate the root mean squared error, use the function'root_mean_squared_error'.\n",
      "  warnings.warn(\n",
      "/Library/Frameworks/Python.framework/Versions/3.10/lib/python3.10/site-packages/sklearn/metrics/_regression.py:483: FutureWarning: 'squared' is deprecated in version 1.4 and will be removed in 1.6. To calculate the root mean squared error, use the function'root_mean_squared_error'.\n",
      "  warnings.warn(\n"
     ]
    }
   ],
   "source": [
    "# split the data\n",
    "X_train, X_test, y_train, y_test = train_test_split(umap_features, target, test_size=0.2, random_state=42)\n",
    "\n",
    "# Gradient Boosting Regression\n",
    "gbr = GradientBoostingRegressor(n_estimators=100, learning_rate=0.1, max_depth=3, random_state=42)\n",
    "gbr.fit(X_train, y_train)\n",
    "y_pred_gbr = gbr.predict(X_test)\n",
    "print(\"GBR RMSE:\", mean_squared_error(y_test, y_pred_gbr, squared=False))\n",
    "print(\"GBR R^2:\", r2_score(y_test, y_pred_gbr))\n",
    "\n",
    "# Random Forest Regression\n",
    "rf = RandomForestRegressor(n_estimators=100, max_depth=5, random_state=42)\n",
    "rf.fit(X_train, y_train)\n",
    "y_pred_rf = rf.predict(X_test)\n",
    "print(\"RF RMSE:\", mean_squared_error(y_test, y_pred_rf, squared=False))\n",
    "print(\"RF R^2:\", r2_score(y_test, y_pred_rf))"
   ]
  },
  {
   "cell_type": "code",
   "execution_count": null,
   "metadata": {},
   "outputs": [],
   "source": []
  }
 ],
 "metadata": {
  "kernelspec": {
   "display_name": "Python 3",
   "language": "python",
   "name": "python3"
  },
  "language_info": {
   "codemirror_mode": {
    "name": "ipython",
    "version": 3
   },
   "file_extension": ".py",
   "mimetype": "text/x-python",
   "name": "python",
   "nbconvert_exporter": "python",
   "pygments_lexer": "ipython3",
   "version": "3.10.0"
  }
 },
 "nbformat": 4,
 "nbformat_minor": 2
}
